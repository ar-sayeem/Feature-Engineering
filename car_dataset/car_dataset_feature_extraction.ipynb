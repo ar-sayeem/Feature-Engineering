{
 "cells": [
  {
   "cell_type": "code",
   "execution_count": null,
   "metadata": {},
   "outputs": [],
   "source": [
    "import pandas as pd\n",
    "import seaborn as sns\n",
    "import matplotlib.pyplot as plt"
   ]
  },
  {
   "cell_type": "code",
   "execution_count": null,
   "metadata": {},
   "outputs": [],
   "source": [
    "df = pd.read_csv(\"car_dataset.csv\")\n",
    "df"
   ]
  },
  {
   "cell_type": "code",
   "execution_count": null,
   "metadata": {},
   "outputs": [],
   "source": [
    "# Question 1: Displaying the data types\n",
    "\n",
    "print(df.dtypes)"
   ]
  },
  {
   "cell_type": "code",
   "execution_count": null,
   "metadata": {},
   "outputs": [],
   "source": [
    "# Question 2: Correlation between 'height' and 'price'\n",
    "\n",
    "correlation = df[['height', 'price']].corr()\n",
    "print(correlation)"
   ]
  },
  {
   "cell_type": "code",
   "execution_count": null,
   "metadata": {},
   "outputs": [],
   "source": [
    "# Question 3: Statistical parameters\n",
    "\n",
    "statistics = df[['height', 'peak-rpm', 'price', 'horsepower']].describe()\n",
    "print(statistics)"
   ]
  },
  {
   "cell_type": "code",
   "execution_count": null,
   "metadata": {},
   "outputs": [],
   "source": [
    "# Question 4: Average price based on body-style\n",
    "average_price = df.groupby('body-style')['price'].mean()\n",
    "print(average_price)"
   ]
  },
  {
   "cell_type": "code",
   "execution_count": null,
   "metadata": {},
   "outputs": [],
   "source": [
    "# Question 5: Scatter plot and box plot\n",
    "# Scatter plot\n",
    "\n",
    "sns.scatterplot(x='height', y='price', data=df)\n",
    "plt.title('Scatter Plot of Height vs Price')\n",
    "plt.show()\n",
    "\n",
    "# plt.figure(figsize=(10, 5))\n",
    "# sns.scatterplot(x='height', y='price', data=df)\n",
    "# plt.title('Scatter Plot of Height vs Price')\n",
    "# plt.xlabel('Height')\n",
    "# plt.ylabel('Price')\n",
    "# plt.show()"
   ]
  },
  {
   "cell_type": "code",
   "execution_count": null,
   "metadata": {},
   "outputs": [],
   "source": [
    "# Question 5: Scatter plot and box plot\n",
    "# Box plot\n",
    "\n",
    "sns.boxplot(x='body-style', y='price', data=df)\n",
    "plt.title('Scatter Plot of Height vs Price')\n",
    "plt.show()\n",
    "\n",
    "# plt.figure(figsize=(10, 5))\n",
    "# sns.boxplot(x='body-style', y='price', data=df)\n",
    "# plt.title('Box Plot of Price by Body Style')\n",
    "# plt.xlabel('Body Style')\n",
    "# plt.ylabel('Price')\n",
    "# plt.show()"
   ]
  },
  {
   "cell_type": "code",
   "execution_count": null,
   "metadata": {},
   "outputs": [],
   "source": [
    "plt.figure(figsize=(8, 6))\n",
    "sns.heatmap(df.corr(), annot=True, cmap='reds', fmt='.2f')\n",
    "plt.title('Correlation Heatmap')\n",
    "plt.show()"
   ]
  }
 ],
 "metadata": {
  "kernelspec": {
   "display_name": "Python 3.12.2 64-bit",
   "language": "python",
   "name": "python3"
  },
  "language_info": {
   "codemirror_mode": {
    "name": "ipython",
    "version": 3
   },
   "file_extension": ".py",
   "mimetype": "text/x-python",
   "name": "python",
   "nbconvert_exporter": "python",
   "pygments_lexer": "ipython3",
   "version": "3.12.2"
  },
  "orig_nbformat": 4,
  "vscode": {
   "interpreter": {
    "hash": "3d3db4e9decadc7cbbe01f1ffad07b5cbe325c0d8371fd9fa2a1c27565f56da0"
   }
  }
 },
 "nbformat": 4,
 "nbformat_minor": 2
}
