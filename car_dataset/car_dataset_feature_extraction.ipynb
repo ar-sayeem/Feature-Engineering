{
 "cells": [
  {
   "cell_type": "code",
   "execution_count": 1,
   "metadata": {},
   "outputs": [],
   "source": [
    "import pandas as pd\n",
    "import seaborn as sns\n",
    "import matplotlib.pyplot as plt"
   ]
  },
  {
   "cell_type": "code",
   "execution_count": 2,
   "metadata": {},
   "outputs": [
    {
     "data": {
      "text/html": [
       "<div>\n",
       "<style scoped>\n",
       "    .dataframe tbody tr th:only-of-type {\n",
       "        vertical-align: middle;\n",
       "    }\n",
       "\n",
       "    .dataframe tbody tr th {\n",
       "        vertical-align: top;\n",
       "    }\n",
       "\n",
       "    .dataframe thead th {\n",
       "        text-align: right;\n",
       "    }\n",
       "</style>\n",
       "<table border=\"1\" class=\"dataframe\">\n",
       "  <thead>\n",
       "    <tr style=\"text-align: right;\">\n",
       "      <th></th>\n",
       "      <th>num-of-doors</th>\n",
       "      <th>body-style</th>\n",
       "      <th>height</th>\n",
       "      <th>num-of-cylinders</th>\n",
       "      <th>horsepower</th>\n",
       "      <th>peak-rpm</th>\n",
       "      <th>city-mpg</th>\n",
       "      <th>highway-mpg</th>\n",
       "      <th>price</th>\n",
       "      <th>horsepower-binned</th>\n",
       "      <th>diesel</th>\n",
       "      <th>gas</th>\n",
       "      <th>body-style-code</th>\n",
       "    </tr>\n",
       "  </thead>\n",
       "  <tbody>\n",
       "    <tr>\n",
       "      <th>0</th>\n",
       "      <td>two</td>\n",
       "      <td>convertibl</td>\n",
       "      <td>48.8</td>\n",
       "      <td>four</td>\n",
       "      <td>111</td>\n",
       "      <td>5000</td>\n",
       "      <td>21</td>\n",
       "      <td>27</td>\n",
       "      <td>13495</td>\n",
       "      <td>Medium</td>\n",
       "      <td>0</td>\n",
       "      <td>1</td>\n",
       "      <td>0</td>\n",
       "    </tr>\n",
       "    <tr>\n",
       "      <th>1</th>\n",
       "      <td>one</td>\n",
       "      <td>convertibl</td>\n",
       "      <td>52.4</td>\n",
       "      <td>four</td>\n",
       "      <td>114</td>\n",
       "      <td>5000</td>\n",
       "      <td>21</td>\n",
       "      <td>27</td>\n",
       "      <td>16500</td>\n",
       "      <td>Medium</td>\n",
       "      <td>0</td>\n",
       "      <td>1</td>\n",
       "      <td>0</td>\n",
       "    </tr>\n",
       "    <tr>\n",
       "      <th>2</th>\n",
       "      <td>two</td>\n",
       "      <td>hatchback</td>\n",
       "      <td>52.4</td>\n",
       "      <td>six</td>\n",
       "      <td>154</td>\n",
       "      <td>5000</td>\n",
       "      <td>19</td>\n",
       "      <td>26</td>\n",
       "      <td>16500</td>\n",
       "      <td>Medium</td>\n",
       "      <td>0</td>\n",
       "      <td>1</td>\n",
       "      <td>1</td>\n",
       "    </tr>\n",
       "    <tr>\n",
       "      <th>3</th>\n",
       "      <td>four</td>\n",
       "      <td>sedan</td>\n",
       "      <td>54.3</td>\n",
       "      <td>four</td>\n",
       "      <td>115</td>\n",
       "      <td>5500</td>\n",
       "      <td>18</td>\n",
       "      <td>22</td>\n",
       "      <td>17450</td>\n",
       "      <td>Medium</td>\n",
       "      <td>0</td>\n",
       "      <td>1</td>\n",
       "      <td>2</td>\n",
       "    </tr>\n",
       "    <tr>\n",
       "      <th>4</th>\n",
       "      <td>four</td>\n",
       "      <td>sedan</td>\n",
       "      <td>54.3</td>\n",
       "      <td>five</td>\n",
       "      <td>110</td>\n",
       "      <td>5500</td>\n",
       "      <td>19</td>\n",
       "      <td>22</td>\n",
       "      <td>17450</td>\n",
       "      <td>Medium</td>\n",
       "      <td>0</td>\n",
       "      <td>1</td>\n",
       "      <td>2</td>\n",
       "    </tr>\n",
       "    <tr>\n",
       "      <th>5</th>\n",
       "      <td>four</td>\n",
       "      <td>wagon</td>\n",
       "      <td>54.9</td>\n",
       "      <td>five</td>\n",
       "      <td>160</td>\n",
       "      <td>5100</td>\n",
       "      <td>20</td>\n",
       "      <td>25</td>\n",
       "      <td>18920</td>\n",
       "      <td>Medium</td>\n",
       "      <td>0</td>\n",
       "      <td>1</td>\n",
       "      <td>3</td>\n",
       "    </tr>\n",
       "    <tr>\n",
       "      <th>6</th>\n",
       "      <td>four</td>\n",
       "      <td>sedan</td>\n",
       "      <td>55.9</td>\n",
       "      <td>five</td>\n",
       "      <td>140</td>\n",
       "      <td>5500</td>\n",
       "      <td>17</td>\n",
       "      <td>20</td>\n",
       "      <td>23875</td>\n",
       "      <td>Medium</td>\n",
       "      <td>0</td>\n",
       "      <td>1</td>\n",
       "      <td>2</td>\n",
       "    </tr>\n",
       "  </tbody>\n",
       "</table>\n",
       "</div>"
      ],
      "text/plain": [
       "  num-of-doors  body-style  height num-of-cylinders  horsepower  peak-rpm  \\\n",
       "0          two  convertibl    48.8             four         111      5000   \n",
       "1          one  convertibl    52.4             four         114      5000   \n",
       "2          two   hatchback    52.4              six         154      5000   \n",
       "3         four       sedan    54.3             four         115      5500   \n",
       "4         four       sedan    54.3             five         110      5500   \n",
       "5         four       wagon    54.9             five         160      5100   \n",
       "6         four       sedan    55.9             five         140      5500   \n",
       "\n",
       "   city-mpg  highway-mpg  price horsepower-binned  diesel  gas  \\\n",
       "0        21           27  13495            Medium       0    1   \n",
       "1        21           27  16500            Medium       0    1   \n",
       "2        19           26  16500            Medium       0    1   \n",
       "3        18           22  17450            Medium       0    1   \n",
       "4        19           22  17450            Medium       0    1   \n",
       "5        20           25  18920            Medium       0    1   \n",
       "6        17           20  23875            Medium       0    1   \n",
       "\n",
       "   body-style-code  \n",
       "0                0  \n",
       "1                0  \n",
       "2                1  \n",
       "3                2  \n",
       "4                2  \n",
       "5                3  \n",
       "6                2  "
      ]
     },
     "execution_count": 2,
     "metadata": {},
     "output_type": "execute_result"
    }
   ],
   "source": [
    "df = pd.read_csv(\"car_dataset.csv\")\n",
    "df"
   ]
  },
  {
   "cell_type": "code",
   "execution_count": 3,
   "metadata": {},
   "outputs": [
    {
     "name": "stdout",
     "output_type": "stream",
     "text": [
      "num-of-doors          object\n",
      "body-style            object\n",
      "height               float64\n",
      "num-of-cylinders      object\n",
      "horsepower             int64\n",
      "peak-rpm               int64\n",
      "city-mpg               int64\n",
      "highway-mpg            int64\n",
      "price                  int64\n",
      "horsepower-binned     object\n",
      "diesel                 int64\n",
      "gas                    int64\n",
      "body-style-code        int64\n",
      "dtype: object\n"
     ]
    }
   ],
   "source": [
    "# Question 1: Displaying the data types\n",
    "print(df.dtypes)"
   ]
  },
  {
   "cell_type": "code",
   "execution_count": 4,
   "metadata": {},
   "outputs": [
    {
     "name": "stdout",
     "output_type": "stream",
     "text": [
      "          height     price\n",
      "height  1.000000  0.862749\n",
      "price   0.862749  1.000000\n"
     ]
    }
   ],
   "source": [
    "# Question 2: Correlation between 'height' and 'price'\n",
    "correlation = df[['height', 'price']].corr()\n",
    "print(correlation)"
   ]
  },
  {
   "cell_type": "code",
   "execution_count": 5,
   "metadata": {},
   "outputs": [
    {
     "name": "stdout",
     "output_type": "stream",
     "text": [
      "          height     peak-rpm         price  horsepower\n",
      "count   7.000000     7.000000      7.000000    7.000000\n",
      "mean   53.285714  5228.571429  17741.428571  129.142857\n",
      "std     2.351899   256.347978   3170.016712   21.652010\n",
      "min    48.800000  5000.000000  13495.000000  110.000000\n",
      "25%    52.400000  5000.000000  16500.000000  112.500000\n",
      "50%    54.300000  5100.000000  17450.000000  115.000000\n",
      "75%    54.600000  5500.000000  18185.000000  147.000000\n",
      "max    55.900000  5500.000000  23875.000000  160.000000\n"
     ]
    }
   ],
   "source": [
    "# Question 3: Statistical parameters\n",
    "statistics = df[['height', 'peak-rpm', 'price', 'horsepower']].describe()\n",
    "print(statistics)"
   ]
  },
  {
   "cell_type": "code",
   "execution_count": 6,
   "metadata": {},
   "outputs": [
    {
     "name": "stdout",
     "output_type": "stream",
     "text": [
      "body-style\n",
      "convertibl    14997.500000\n",
      "hatchback     16500.000000\n",
      "sedan         19591.666667\n",
      "wagon         18920.000000\n",
      "Name: price, dtype: float64\n"
     ]
    }
   ],
   "source": [
    "# Question 4: Average price based on body-style\n",
    "average_price = df.groupby('body-style')['price'].mean()\n",
    "print(average_price)"
   ]
  },
  {
   "cell_type": "code",
   "execution_count": 7,
   "metadata": {},
   "outputs": [
    {
     "data": {
      "image/png": "[encoded data removed]",
      "text/plain": [
       "<Figure size 1000x500 with 1 Axes>"
      ]
     },
     "metadata": {},
     "output_type": "display_data"
    }
   ],
   "source": [
    "# Question 5: Scatter plot and box plot\n",
    "# Scatter plot\n",
    "plt.figure(figsize=(10, 5))\n",
    "sns.scatterplot(x='height', y='price', data=df)\n",
    "plt.title('Scatter Plot of Height vs Price')\n",
    "plt.xlabel('Height')\n",
    "plt.ylabel('Price')\n",
    "plt.show()"
   ]
  },
  {
   "cell_type": "code",
   "execution_count": 8,
   "metadata": {},
   "outputs": [
    {
     "data": {
      "image/png": "[encoded data removed]",
      "text/plain": [
       "<Figure size 1000x500 with 1 Axes>"
      ]
     },
     "metadata": {},
     "output_type": "display_data"
    }
   ],
   "source": [
    "# Box plot\n",
    "plt.figure(figsize=(10, 5))\n",
    "sns.boxplot(x='body-style', y='price', data=df)\n",
    "plt.title('Box Plot of Price by Body Style')\n",
    "plt.xlabel('Body Style')\n",
    "plt.ylabel('Price')\n",
    "plt.show()"
   ]
  }
 ],
 "metadata": {
  "kernelspec": {
   "display_name": "Python 3.12.2 64-bit",
   "language": "python",
   "name": "python3"
  },
  "language_info": {
   "codemirror_mode": {
    "name": "ipython",
    "version": 3
   },
   "file_extension": ".py",
   "mimetype": "text/x-python",
   "name": "python",
   "nbconvert_exporter": "python",
   "pygments_lexer": "ipython3",
   "version": "3.12.2"
  },
  "orig_nbformat": 4,
  "vscode": {
   "interpreter": {
    "hash": "3d3db4e9decadc7cbbe01f1ffad07b5cbe325c0d8371fd9fa2a1c27565f56da0"
   }
  }
 },
 "nbformat": 4,
 "nbformat_minor": 2
}
