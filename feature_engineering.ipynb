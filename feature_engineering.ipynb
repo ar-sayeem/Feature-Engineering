{
 "cells": [
  {
   "cell_type": "markdown",
   "metadata": {},
   "source": [
    "## <b>This code performs several steps of feature engineering, including handling missing data, generate statistics, encoding categorical variables, and identifying duplicates.</b>"
   ]
  },
  {
   "cell_type": "code",
   "execution_count": null,
   "metadata": {},
   "outputs": [],
   "source": [
    "# Pandas library -> used for data manipulation and analysis.\n",
    "\n",
    "import pandas as pd\n",
    "import seaborn as sns\n",
    "import matplotlib.pyplot as plt\n",
    "from sklearn.preprocessing import LabelEncoder"
   ]
  },
  {
   "cell_type": "code",
   "execution_count": null,
   "metadata": {},
   "outputs": [],
   "source": [
    "# Loading Data: Reads data from a CSV file.\n",
    "\n",
    "df = pd.read_csv(\"data.csv\")\n",
    "df"
   ]
  },
  {
   "cell_type": "code",
   "execution_count": null,
   "metadata": {},
   "outputs": [],
   "source": [
    "# Understanding Data: Data types and shape\n",
    "\n",
    "print(df.dtypes)\n",
    "print('\\nData Shape:', df.shape)"
   ]
  },
  {
   "cell_type": "code",
   "execution_count": null,
   "metadata": {},
   "outputs": [],
   "source": [
    "# if there any Null value it will show True\n",
    "\n",
    "df.isnull().values.any()"
   ]
  },
  {
   "cell_type": "code",
   "execution_count": null,
   "metadata": {},
   "outputs": [],
   "source": [
    "# Identifying Missing Values: Detects missing values in the dataset.\n",
    "\n",
    "df.isnull()"
   ]
  },
  {
   "cell_type": "code",
   "execution_count": null,
   "metadata": {},
   "outputs": [],
   "source": [
    "# Identifying Missing Values: If there is no data inputed it will show False\n",
    "\n",
    "# df.notnull()"
   ]
  },
  {
   "cell_type": "code",
   "execution_count": null,
   "metadata": {},
   "outputs": [],
   "source": [
    "# Data Cleaning: Removes rows with any missing values.\n",
    "\n",
    "delete_row = df.dropna(inplace=False)\n",
    "delete_row"
   ]
  },
  {
   "cell_type": "code",
   "execution_count": null,
   "metadata": {},
   "outputs": [],
   "source": [
    "# Identifying Duplicates: Detects duplicate rows in the dataset.\n",
    "\n",
    "duplicates = df[df.duplicated()]\n",
    "print(duplicates)"
   ]
  },
  {
   "cell_type": "code",
   "execution_count": null,
   "metadata": {},
   "outputs": [],
   "source": [
    "# Dropping Duplicates: Deletes duplicate rows from the dataset.\n",
    "\n",
    "delete_duplicates = df.drop_duplicates()\n",
    "delete_duplicates"
   ]
  },
  {
   "cell_type": "code",
   "execution_count": null,
   "metadata": {},
   "outputs": [],
   "source": [
    "# Handling Missing Values: Fills missing values with a specified value (0 in this case).\n",
    "# Imputation: is the process of replacing missing data with substituted values.\n",
    "\n",
    "impute_data = df.fillna(0)\n",
    "impute_data"
   ]
  },
  {
   "cell_type": "code",
   "execution_count": null,
   "metadata": {},
   "outputs": [],
   "source": [
    "# Handling Missing Values: Fills missing values with:\n",
    "# CGPA      -> mean CGPA\n",
    "# Age       -> mean Age\n",
    "# Semester  -> 0\n",
    "\n",
    "mean_cgpa = df['CGPA'].mean()\n",
    "mean_age = df['Age'].mean()\n",
    "\n",
    "# fillna with mean CGPA and mean Age\n",
    "df['CGPA'].fillna(df['CGPA'].mean(), inplace=True)\n",
    "df['Age'].fillna(df['Age'].mean(), inplace=True)\n",
    "df"
   ]
  },
  {
   "cell_type": "code",
   "execution_count": null,
   "metadata": {},
   "outputs": [],
   "source": [
    "# Encoding Categorical Variables: Converts categorical data into numerical format using label encoding.\n",
    "# Convert 'Gender' and 'Semester' labels in the DataFrame (df) to numeric labels (0 or 1),\n",
    "\n",
    "le = LabelEncoder()\n",
    "\n",
    "df['Semester'] = le.fit_transform(df['Semester'])\n",
    "df['Gender'] = le.fit_transform(df['Gender'])\n",
    "df"
   ]
  },
  {
   "cell_type": "code",
   "execution_count": null,
   "metadata": {},
   "outputs": [],
   "source": [
    "# One-Hot Encoding: Converts categorical data into binary columns using one-hot encoding.# resulting in a new DataFrame df1, and displays it.\n",
    "\n",
    "df1 = pd.get_dummies(df, columns=['Semester', 'Gender'])\n",
    "df1"
   ]
  },
  {
   "cell_type": "code",
   "execution_count": null,
   "metadata": {},
   "outputs": [],
   "source": [
    "# Descriptive Statistics: Provides summary statistics of the impute_data DataFrame,\n",
    "# provides -> count, mean, std, min, max and percentiles(25%, 50%, 75%)\n",
    "\n",
    "df.describe()"
   ]
  },
  {
   "cell_type": "code",
   "execution_count": null,
   "metadata": {},
   "outputs": [],
   "source": [
    "# Descriptive Statistics: describle() only retures values for numerical values, not for descriptive values.\n",
    "# Or we can make a numerical data frame manually\n",
    "\n",
    "df_numeric = df[['Student ID', 'CGPA', 'Age', 'Semester', 'Gender']]\n",
    "# since we used LevelEncoder() on 'Semester' and \"Gender\", these two collumns are numeric now.\n",
    "df_numeric"
   ]
  },
  {
   "cell_type": "code",
   "execution_count": null,
   "metadata": {},
   "outputs": [],
   "source": [
    "# Correlation: Correlation is only possible for numeric values\n",
    "\n",
    "corr = df_numeric.corr()\n",
    "corr"
   ]
  },
  {
   "cell_type": "code",
   "execution_count": null,
   "metadata": {},
   "outputs": [],
   "source": [
    "# Correlation: Correlation for selective attributes is also possible\n",
    "\n",
    "corr_CGPA_vs_Gender = df_numeric[['CGPA', 'Age', 'Gender']].corr()\n",
    "corr_CGPA_vs_Gender"
   ]
  },
  {
   "cell_type": "code",
   "execution_count": null,
   "metadata": {},
   "outputs": [],
   "source": [
    "plt.figure(figsize= (8,5))\n",
    "sns.heatmap(corr, annot=True)\n",
    "plt.show()"
   ]
  },
  {
   "cell_type": "code",
   "execution_count": null,
   "metadata": {},
   "outputs": [],
   "source": [
    "group_cg = df_numeric.groupby('Age')['CGPA'].mean()\n",
    "group_cg"
   ]
  },
  {
   "cell_type": "code",
   "execution_count": null,
   "metadata": {},
   "outputs": [],
   "source": [
    "sns.displot(df_numeric)\n",
    "plt.show()"
   ]
  },
  {
   "cell_type": "code",
   "execution_count": null,
   "metadata": {},
   "outputs": [],
   "source": [
    "sort_id = df_numeric.sort_values(by='Student ID')\n",
    "sort_id"
   ]
  },
  {
   "cell_type": "code",
   "execution_count": null,
   "metadata": {},
   "outputs": [],
   "source": [
    "sort_age = df_numeric.sort_values(by='Age')\n",
    "sort_age"
   ]
  },
  {
   "cell_type": "code",
   "execution_count": null,
   "metadata": {},
   "outputs": [],
   "source": [
    "sort_age_decs = df_numeric.sort_values(by='Age', ascending=False)\n",
    "sort_age_decs"
   ]
  },
  {
   "cell_type": "markdown",
   "metadata": {},
   "source": [
    "#### Visualization"
   ]
  },
  {
   "cell_type": "code",
   "execution_count": null,
   "metadata": {},
   "outputs": [],
   "source": [
    "sns.boxplot(df_numeric)\n",
    "plt.title('Boxplot: df_numeric')\n",
    "plt.show()"
   ]
  },
  {
   "cell_type": "code",
   "execution_count": null,
   "metadata": {},
   "outputs": [],
   "source": [
    "sns.boxplot(df_numeric[['CGPA', 'Semester', 'Gender']])\n",
    "plt.title('Boxplot: CGPA, Age and Gender')\n",
    "plt.show()"
   ]
  },
  {
   "cell_type": "code",
   "execution_count": null,
   "metadata": {},
   "outputs": [],
   "source": [
    "sns.pairplot(df_numeric)\n",
    "plt.show()"
   ]
  },
  {
   "cell_type": "code",
   "execution_count": null,
   "metadata": {},
   "outputs": [],
   "source": [
    "sns.pairplot(df_numeric[['CGPA', 'Semester', 'Gender']])\n",
    "plt.show()"
   ]
  },
  {
   "cell_type": "code",
   "execution_count": null,
   "metadata": {},
   "outputs": [],
   "source": [
    "sns.scatterplot(df_numeric)\n",
    "plt.show()"
   ]
  },
  {
   "cell_type": "code",
   "execution_count": null,
   "metadata": {},
   "outputs": [],
   "source": [
    "sns.scatterplot(df_numeric[['CGPA', 'Semester', 'Gender']])\n",
    "plt.show()"
   ]
  },
  {
   "cell_type": "code",
   "execution_count": null,
   "metadata": {},
   "outputs": [],
   "source": [
    "df_numeric.hist()"
   ]
  },
  {
   "cell_type": "markdown",
   "metadata": {},
   "source": [
    "## Summary of Feature Engineering Steps:\n",
    "\n",
    "✔ Loading Data: Reads data from a CSV file.<br>\n",
    "✔ Understanding Data Shape: Checks the number of rows and columns.<br>\n",
    "✔ Identifying Missing Values: Detects missing values in the dataset.<br>\n",
    "✔ Imputing Missing Values: Fills missing values with a specified value (0 in this case).<br>\n",
    "✔ Dropping Missing Values: Removes rows with any missing values.<br>\n",
    "✔ Descriptive Statistics: Provides summary statistics to understand data distribution.<br>\n",
    "✔ Encoding Categorical Variables: Converts categorical data into numerical format using label encoding.<br>\n",
    "✔ One-Hot Encoding: Converts categorical data into binary columns using one-hot encoding.<br>\n",
    "✔ Identifying Duplicates: Detects duplicate rows in the dataset.<br>\n",
    "✔ Dropping Duplicates: Deletes duplicate rows from the dataset.<br>\n",
    "\n",
    "##### Each of these steps is a part of the feature engineering process, which aims to prepare and transform raw data into a suitable format for modeling."
   ]
  }
 ],
 "metadata": {
  "kernelspec": {
   "display_name": "Python 3.12.2 64-bit",
   "language": "python",
   "name": "python3"
  },
  "language_info": {
   "codemirror_mode": {
    "name": "ipython",
    "version": 3
   },
   "file_extension": ".py",
   "mimetype": "text/x-python",
   "name": "python",
   "nbconvert_exporter": "python",
   "pygments_lexer": "ipython3",
   "version": "3.12.2"
  },
  "orig_nbformat": 4,
  "vscode": {
   "interpreter": {
    "hash": "3d3db4e9decadc7cbbe01f1ffad07b5cbe325c0d8371fd9fa2a1c27565f56da0"
   }
  }
 },
 "nbformat": 4,
 "nbformat_minor": 2
}
