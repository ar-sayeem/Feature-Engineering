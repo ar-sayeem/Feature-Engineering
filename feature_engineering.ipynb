{
 "cells": [
  {
   "cell_type": "markdown",
   "metadata": {},
   "source": [
    "## <b>This code performs several steps of feature engineering, including handling missing data, generate statistics, encoding categorical variables, and identifying duplicates.</b>"
   ]
  },
  {
   "cell_type": "code",
   "execution_count": null,
   "metadata": {},
   "outputs": [],
   "source": [
    "# Pandas library -> used for data manipulation and analysis.\n",
    "\n",
    "import pandas as pd"
   ]
  },
  {
   "cell_type": "code",
   "execution_count": null,
   "metadata": {},
   "outputs": [],
   "source": [
    "# Loading Data: Reads data from a CSV file.\n",
    "\n",
    "df = pd.read_csv(\"data.csv\")\n",
    "df"
   ]
  },
  {
   "cell_type": "code",
   "execution_count": null,
   "metadata": {},
   "outputs": [],
   "source": [
    "# Understanding Data Shape: Checks the number of rows and columns.\n",
    "\n",
    "df.shape"
   ]
  },
  {
   "cell_type": "code",
   "execution_count": null,
   "metadata": {},
   "outputs": [],
   "source": [
    "# Identifying Missing Values: Detects missing values in the dataset.\n",
    "\n",
    "df.isnull()"
   ]
  },
  {
   "cell_type": "code",
   "execution_count": null,
   "metadata": {},
   "outputs": [],
   "source": [
    "# Imputing Missing Values: Fills missing values with a specified value (0 in this case).\n",
    "# Imputation: is the process of replacing missing data with substituted values.\n",
    "\n",
    "impute_data = df.fillna(0)\n",
    "impute_data"
   ]
  },
  {
   "cell_type": "code",
   "execution_count": null,
   "metadata": {},
   "outputs": [],
   "source": [
    "# Descriptive Statistics: Provides summary statistics of the impute_data DataFrame,\n",
    "# provides -> count, mean, std, min, max and percentiles(25%, 50%, 75%)\n",
    "\n",
    "impute_data.describe()"
   ]
  },
  {
   "cell_type": "code",
   "execution_count": null,
   "metadata": {},
   "outputs": [],
   "source": [
    "# Dropping Missing Values: Removes rows with any missing values.\n",
    "\n",
    "delete_data = df.dropna(inplace=False)\n",
    "delete_data"
   ]
  },
  {
   "cell_type": "code",
   "execution_count": null,
   "metadata": {},
   "outputs": [],
   "source": [
    "# Encoding Categorical Variables: Converts categorical data into numerical format using label encoding.\n",
    "# Convert 'Gender' labels in the DataFrame (df) to numeric labels (0 or 1),\n",
    "\n",
    "from sklearn.preprocessing import LabelEncoder\n",
    "\n",
    "le = LabelEncoder()\n",
    "df['Gender'] = le.fit_transform(df['Gender'])\n",
    "df"
   ]
  },
  {
   "cell_type": "code",
   "execution_count": null,
   "metadata": {},
   "outputs": [],
   "source": [
    "# Dropping Missing Values: Removes rows with any missing values.\n",
    "\n",
    "delete_data = df.dropna(inplace=False)\n",
    "delete_data"
   ]
  },
  {
   "cell_type": "code",
   "execution_count": null,
   "metadata": {},
   "outputs": [],
   "source": [
    "# One-Hot Encoding: Converts categorical data into binary columns using one-hot encoding.# resulting in a new DataFrame df1, and displays it.\n",
    "\n",
    "df1 = pd.get_dummies(df, columns=['Gender'])\n",
    "df1"
   ]
  },
  {
   "cell_type": "code",
   "execution_count": null,
   "metadata": {},
   "outputs": [],
   "source": [
    "# Identifying Duplicates: Detects duplicate rows in the dataset.\n",
    "\n",
    "duplicates = df[df.duplicated()]\n",
    "print(duplicates)"
   ]
  },
  {
   "cell_type": "markdown",
   "metadata": {},
   "source": [
    "## <b>Summary of Feature Engineering Steps:<b>\n",
    "\n",
    "✔ <b>Loading Data:</b> Reads data from a CSV file.<br>\n",
    "✔ <b>Understanding Data Shape:</b> Checks the number of rows and columns.<br>\n",
    "✔ <b>Identifying Missing Values:</b> Detects missing values in the dataset.<br>\n",
    "✔ <b>Imputing Missing Values:</b> Fills missing values with a specified value (0 in this case).<br>\n",
    "✔ <b>Dropping Missing Values:</b> Removes rows with any missing values.<br>\n",
    "✔ <b>Descriptive Statistics:</b> Provides summary statistics to understand data distribution.<br>\n",
    "✔ <b>Encoding Categorical Variables:</b> Converts categorical data into numerical format using label encoding.<br>\n",
    "✔ <b>One-Hot Encoding:</b> Converts categorical data into binary columns using one-hot encoding.<br>\n",
    "✔ <b>Identifying Duplicates:</b> Detects duplicate rows in the dataset.<br>\n",
    "\n",
    "##### Each of these steps is a part of the feature engineering process, which aims to prepare and transform raw data into a suitable format for modeling."
   ]
  }
 ],
 "metadata": {
  "kernelspec": {
   "display_name": "Python 3.12.2 64-bit",
   "language": "python",
   "name": "python3"
  },
  "language_info": {
   "codemirror_mode": {
    "name": "ipython",
    "version": 3
   },
   "file_extension": ".py",
   "mimetype": "text/x-python",
   "name": "python",
   "nbconvert_exporter": "python",
   "pygments_lexer": "ipython3",
   "version": "3.12.2"
  },
  "orig_nbformat": 4,
  "vscode": {
   "interpreter": {
    "hash": "3d3db4e9decadc7cbbe01f1ffad07b5cbe325c0d8371fd9fa2a1c27565f56da0"
   }
  }
 },
 "nbformat": 4,
 "nbformat_minor": 2
}
